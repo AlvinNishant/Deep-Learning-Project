{
  "cells": [
    {
      "cell_type": "markdown",
      "id": "18075d92",
      "metadata": {
        "papermill": {
          "duration": 0.038465,
          "end_time": "2023-07-01T01:39:49.914111",
          "exception": false,
          "start_time": "2023-07-01T01:39:49.875646",
          "status": "completed"
        },
        "tags": [],
        "id": "18075d92"
      },
      "source": [
        "## Import libraries\n"
      ]
    },
    {
      "cell_type": "code",
      "execution_count": 2,
      "id": "51cb9b4e",
      "metadata": {
        "execution": {
          "iopub.execute_input": "2023-07-01T01:39:49.987642Z",
          "iopub.status.busy": "2023-07-01T01:39:49.986731Z",
          "iopub.status.idle": "2023-07-01T01:39:55.239433Z",
          "shell.execute_reply": "2023-07-01T01:39:55.238737Z",
          "shell.execute_reply.started": "2023-07-01T00:59:33.890088Z"
        },
        "papermill": {
          "duration": 5.292349,
          "end_time": "2023-07-01T01:39:55.239605",
          "exception": false,
          "start_time": "2023-07-01T01:39:49.947256",
          "status": "completed"
        },
        "tags": [],
        "id": "51cb9b4e"
      },
      "outputs": [],
      "source": [
        "import pandas as pd\n",
        "import numpy as np\n",
        "from tensorflow.keras import layers\n",
        "from tensorflow.keras.utils import image_dataset_from_directory\n",
        "from tensorflow.keras.preprocessing.image import ImageDataGenerator\n",
        "from tensorflow.keras.layers import Dense, GlobalAveragePooling2D, Dropout\n",
        "from tensorflow.keras.models import Model\n",
        "from tensorflow.keras.callbacks import EarlyStopping\n",
        "from tensorflow.keras import models\n",
        "import os\n",
        "import shutil\n",
        "import sys"
      ]
    },
    {
      "cell_type": "markdown",
      "id": "b35ec5ac",
      "metadata": {
        "papermill": {
          "duration": 0.022826,
          "end_time": "2023-07-01T01:39:55.284764",
          "exception": false,
          "start_time": "2023-07-01T01:39:55.261938",
          "status": "completed"
        },
        "tags": [],
        "id": "b35ec5ac"
      },
      "source": [
        "## Dataset"
      ]
    },
    {
      "cell_type": "code",
      "source": [
        "labels = pd.read_csv('/content/labels.csv')\n",
        "labels.head()"
      ],
      "metadata": {
        "colab": {
          "base_uri": "https://localhost:8080/",
          "height": 206
        },
        "id": "YyJ-rL-w8n0M",
        "outputId": "179fe292-f4a8-4541-eadc-747a456f1084"
      },
      "id": "YyJ-rL-w8n0M",
      "execution_count": 4,
      "outputs": [
        {
          "output_type": "execute_result",
          "data": {
            "text/plain": [
              "                                 id             breed\n",
              "0  000bec180eb18c7604dcecc8fe0dba07       boston_bull\n",
              "1  001513dfcb2ffafc82cccf4d8bbaba97             dingo\n",
              "2  001cdf01b096e06d78e9e5112d419397          pekinese\n",
              "3  00214f311d5d2247d5dfe4fe24b2303d          bluetick\n",
              "4  0021f9ceb3235effd7fcde7f7538ed62  golden_retriever"
            ],
            "text/html": [
              "\n",
              "\n",
              "  <div id=\"df-04953848-0b1f-4441-8bf2-cbf2b8dc036e\">\n",
              "    <div class=\"colab-df-container\">\n",
              "      <div>\n",
              "<style scoped>\n",
              "    .dataframe tbody tr th:only-of-type {\n",
              "        vertical-align: middle;\n",
              "    }\n",
              "\n",
              "    .dataframe tbody tr th {\n",
              "        vertical-align: top;\n",
              "    }\n",
              "\n",
              "    .dataframe thead th {\n",
              "        text-align: right;\n",
              "    }\n",
              "</style>\n",
              "<table border=\"1\" class=\"dataframe\">\n",
              "  <thead>\n",
              "    <tr style=\"text-align: right;\">\n",
              "      <th></th>\n",
              "      <th>id</th>\n",
              "      <th>breed</th>\n",
              "    </tr>\n",
              "  </thead>\n",
              "  <tbody>\n",
              "    <tr>\n",
              "      <th>0</th>\n",
              "      <td>000bec180eb18c7604dcecc8fe0dba07</td>\n",
              "      <td>boston_bull</td>\n",
              "    </tr>\n",
              "    <tr>\n",
              "      <th>1</th>\n",
              "      <td>001513dfcb2ffafc82cccf4d8bbaba97</td>\n",
              "      <td>dingo</td>\n",
              "    </tr>\n",
              "    <tr>\n",
              "      <th>2</th>\n",
              "      <td>001cdf01b096e06d78e9e5112d419397</td>\n",
              "      <td>pekinese</td>\n",
              "    </tr>\n",
              "    <tr>\n",
              "      <th>3</th>\n",
              "      <td>00214f311d5d2247d5dfe4fe24b2303d</td>\n",
              "      <td>bluetick</td>\n",
              "    </tr>\n",
              "    <tr>\n",
              "      <th>4</th>\n",
              "      <td>0021f9ceb3235effd7fcde7f7538ed62</td>\n",
              "      <td>golden_retriever</td>\n",
              "    </tr>\n",
              "  </tbody>\n",
              "</table>\n",
              "</div>\n",
              "      <button class=\"colab-df-convert\" onclick=\"convertToInteractive('df-04953848-0b1f-4441-8bf2-cbf2b8dc036e')\"\n",
              "              title=\"Convert this dataframe to an interactive table.\"\n",
              "              style=\"display:none;\">\n",
              "\n",
              "  <svg xmlns=\"http://www.w3.org/2000/svg\" height=\"24px\"viewBox=\"0 0 24 24\"\n",
              "       width=\"24px\">\n",
              "    <path d=\"M0 0h24v24H0V0z\" fill=\"none\"/>\n",
              "    <path d=\"M18.56 5.44l.94 2.06.94-2.06 2.06-.94-2.06-.94-.94-2.06-.94 2.06-2.06.94zm-11 1L8.5 8.5l.94-2.06 2.06-.94-2.06-.94L8.5 2.5l-.94 2.06-2.06.94zm10 10l.94 2.06.94-2.06 2.06-.94-2.06-.94-.94-2.06-.94 2.06-2.06.94z\"/><path d=\"M17.41 7.96l-1.37-1.37c-.4-.4-.92-.59-1.43-.59-.52 0-1.04.2-1.43.59L10.3 9.45l-7.72 7.72c-.78.78-.78 2.05 0 2.83L4 21.41c.39.39.9.59 1.41.59.51 0 1.02-.2 1.41-.59l7.78-7.78 2.81-2.81c.8-.78.8-2.07 0-2.86zM5.41 20L4 18.59l7.72-7.72 1.47 1.35L5.41 20z\"/>\n",
              "  </svg>\n",
              "      </button>\n",
              "\n",
              "\n",
              "\n",
              "    <div id=\"df-e9a4b2b8-c305-4e7c-b6d5-f79b974fb80d\">\n",
              "      <button class=\"colab-df-quickchart\" onclick=\"quickchart('df-e9a4b2b8-c305-4e7c-b6d5-f79b974fb80d')\"\n",
              "              title=\"Suggest charts.\"\n",
              "              style=\"display:none;\">\n",
              "\n",
              "<svg xmlns=\"http://www.w3.org/2000/svg\" height=\"24px\"viewBox=\"0 0 24 24\"\n",
              "     width=\"24px\">\n",
              "    <g>\n",
              "        <path d=\"M19 3H5c-1.1 0-2 .9-2 2v14c0 1.1.9 2 2 2h14c1.1 0 2-.9 2-2V5c0-1.1-.9-2-2-2zM9 17H7v-7h2v7zm4 0h-2V7h2v10zm4 0h-2v-4h2v4z\"/>\n",
              "    </g>\n",
              "</svg>\n",
              "      </button>\n",
              "    </div>\n",
              "\n",
              "<style>\n",
              "  .colab-df-quickchart {\n",
              "    background-color: #E8F0FE;\n",
              "    border: none;\n",
              "    border-radius: 50%;\n",
              "    cursor: pointer;\n",
              "    display: none;\n",
              "    fill: #1967D2;\n",
              "    height: 32px;\n",
              "    padding: 0 0 0 0;\n",
              "    width: 32px;\n",
              "  }\n",
              "\n",
              "  .colab-df-quickchart:hover {\n",
              "    background-color: #E2EBFA;\n",
              "    box-shadow: 0px 1px 2px rgba(60, 64, 67, 0.3), 0px 1px 3px 1px rgba(60, 64, 67, 0.15);\n",
              "    fill: #174EA6;\n",
              "  }\n",
              "\n",
              "  [theme=dark] .colab-df-quickchart {\n",
              "    background-color: #3B4455;\n",
              "    fill: #D2E3FC;\n",
              "  }\n",
              "\n",
              "  [theme=dark] .colab-df-quickchart:hover {\n",
              "    background-color: #434B5C;\n",
              "    box-shadow: 0px 1px 3px 1px rgba(0, 0, 0, 0.15);\n",
              "    filter: drop-shadow(0px 1px 2px rgba(0, 0, 0, 0.3));\n",
              "    fill: #FFFFFF;\n",
              "  }\n",
              "</style>\n",
              "\n",
              "    <script>\n",
              "      async function quickchart(key) {\n",
              "        const containerElement = document.querySelector('#' + key);\n",
              "        const charts = await google.colab.kernel.invokeFunction(\n",
              "            'suggestCharts', [key], {});\n",
              "      }\n",
              "    </script>\n",
              "\n",
              "      <script>\n",
              "\n",
              "function displayQuickchartButton(domScope) {\n",
              "  let quickchartButtonEl =\n",
              "    domScope.querySelector('#df-e9a4b2b8-c305-4e7c-b6d5-f79b974fb80d button.colab-df-quickchart');\n",
              "  quickchartButtonEl.style.display =\n",
              "    google.colab.kernel.accessAllowed ? 'block' : 'none';\n",
              "}\n",
              "\n",
              "        displayQuickchartButton(document);\n",
              "      </script>\n",
              "      <style>\n",
              "    .colab-df-container {\n",
              "      display:flex;\n",
              "      flex-wrap:wrap;\n",
              "      gap: 12px;\n",
              "    }\n",
              "\n",
              "    .colab-df-convert {\n",
              "      background-color: #E8F0FE;\n",
              "      border: none;\n",
              "      border-radius: 50%;\n",
              "      cursor: pointer;\n",
              "      display: none;\n",
              "      fill: #1967D2;\n",
              "      height: 32px;\n",
              "      padding: 0 0 0 0;\n",
              "      width: 32px;\n",
              "    }\n",
              "\n",
              "    .colab-df-convert:hover {\n",
              "      background-color: #E2EBFA;\n",
              "      box-shadow: 0px 1px 2px rgba(60, 64, 67, 0.3), 0px 1px 3px 1px rgba(60, 64, 67, 0.15);\n",
              "      fill: #174EA6;\n",
              "    }\n",
              "\n",
              "    [theme=dark] .colab-df-convert {\n",
              "      background-color: #3B4455;\n",
              "      fill: #D2E3FC;\n",
              "    }\n",
              "\n",
              "    [theme=dark] .colab-df-convert:hover {\n",
              "      background-color: #434B5C;\n",
              "      box-shadow: 0px 1px 3px 1px rgba(0, 0, 0, 0.15);\n",
              "      filter: drop-shadow(0px 1px 2px rgba(0, 0, 0, 0.3));\n",
              "      fill: #FFFFFF;\n",
              "    }\n",
              "  </style>\n",
              "\n",
              "      <script>\n",
              "        const buttonEl =\n",
              "          document.querySelector('#df-04953848-0b1f-4441-8bf2-cbf2b8dc036e button.colab-df-convert');\n",
              "        buttonEl.style.display =\n",
              "          google.colab.kernel.accessAllowed ? 'block' : 'none';\n",
              "\n",
              "        async function convertToInteractive(key) {\n",
              "          const element = document.querySelector('#df-04953848-0b1f-4441-8bf2-cbf2b8dc036e');\n",
              "          const dataTable =\n",
              "            await google.colab.kernel.invokeFunction('convertToInteractive',\n",
              "                                                     [key], {});\n",
              "          if (!dataTable) return;\n",
              "\n",
              "          const docLinkHtml = 'Like what you see? Visit the ' +\n",
              "            '<a target=\"_blank\" href=https://colab.research.google.com/notebooks/data_table.ipynb>data table notebook</a>'\n",
              "            + ' to learn more about interactive tables.';\n",
              "          element.innerHTML = '';\n",
              "          dataTable['output_type'] = 'display_data';\n",
              "          await google.colab.output.renderOutput(dataTable, element);\n",
              "          const docLink = document.createElement('div');\n",
              "          docLink.innerHTML = docLinkHtml;\n",
              "          element.appendChild(docLink);\n",
              "        }\n",
              "      </script>\n",
              "    </div>\n",
              "  </div>\n"
            ]
          },
          "metadata": {},
          "execution_count": 4
        }
      ]
    },
    {
      "cell_type": "code",
      "execution_count": 10,
      "id": "99f3bf48",
      "metadata": {
        "execution": {
          "iopub.execute_input": "2023-07-01T01:39:55.333636Z",
          "iopub.status.busy": "2023-07-01T01:39:55.332976Z",
          "iopub.status.idle": "2023-07-01T01:39:55.360959Z",
          "shell.execute_reply": "2023-07-01T01:39:55.361835Z",
          "shell.execute_reply.started": "2023-07-01T00:59:39.959390Z"
        },
        "papermill": {
          "duration": 0.055138,
          "end_time": "2023-07-01T01:39:55.361979",
          "exception": false,
          "start_time": "2023-07-01T01:39:55.306841",
          "status": "completed"
        },
        "tags": [],
        "id": "99f3bf48"
      },
      "outputs": [],
      "source": [
        "dataset_dir = '/content/drive/MyDrive/train'\n"
      ]
    },
    {
      "cell_type": "code",
      "source": [
        "from pathlib import Path\n",
        "print(Path.cwd())"
      ],
      "metadata": {
        "colab": {
          "base_uri": "https://localhost:8080/"
        },
        "id": "6iHern3fx3ry",
        "outputId": "40699cea-cb01-4602-aa23-5d2551a888c7"
      },
      "id": "6iHern3fx3ry",
      "execution_count": 11,
      "outputs": [
        {
          "output_type": "stream",
          "name": "stdout",
          "text": [
            "/content\n"
          ]
        }
      ]
    },
    {
      "cell_type": "markdown",
      "id": "902683e4",
      "metadata": {
        "papermill": {
          "duration": 0.022158,
          "end_time": "2023-07-01T01:39:55.406214",
          "exception": false,
          "start_time": "2023-07-01T01:39:55.384056",
          "status": "completed"
        },
        "tags": [],
        "id": "902683e4"
      },
      "source": [
        "## Number of Classes"
      ]
    },
    {
      "cell_type": "code",
      "execution_count": 5,
      "id": "1ec155ca",
      "metadata": {
        "execution": {
          "iopub.execute_input": "2023-07-01T01:39:55.460312Z",
          "iopub.status.busy": "2023-07-01T01:39:55.452108Z",
          "iopub.status.idle": "2023-07-01T01:39:55.467479Z",
          "shell.execute_reply": "2023-07-01T01:39:55.467983Z",
          "shell.execute_reply.started": "2023-07-01T00:59:44.610572Z"
        },
        "papermill": {
          "duration": 0.04008,
          "end_time": "2023-07-01T01:39:55.468131",
          "exception": false,
          "start_time": "2023-07-01T01:39:55.428051",
          "status": "completed"
        },
        "tags": [],
        "id": "1ec155ca",
        "outputId": "a616e3fe-08e7-4540-e5ff-751e7775462a",
        "colab": {
          "base_uri": "https://localhost:8080/"
        }
      },
      "outputs": [
        {
          "output_type": "execute_result",
          "data": {
            "text/plain": [
              "120"
            ]
          },
          "metadata": {},
          "execution_count": 5
        }
      ],
      "source": [
        "n_class = len(labels.breed.unique())\n",
        "n_class"
      ]
    },
    {
      "cell_type": "markdown",
      "id": "dd1fdef6",
      "metadata": {
        "papermill": {
          "duration": 0.022032,
          "end_time": "2023-07-01T01:39:55.513100",
          "exception": false,
          "start_time": "2023-07-01T01:39:55.491068",
          "status": "completed"
        },
        "tags": [],
        "id": "dd1fdef6"
      },
      "source": [
        "## Pre-Processing"
      ]
    },
    {
      "cell_type": "code",
      "execution_count": 12,
      "id": "844580f4",
      "metadata": {
        "execution": {
          "iopub.execute_input": "2023-07-01T01:39:55.608507Z",
          "iopub.status.busy": "2023-07-01T01:39:55.606689Z",
          "iopub.status.idle": "2023-07-01T01:39:55.609145Z",
          "shell.execute_reply": "2023-07-01T01:39:55.609642Z",
          "shell.execute_reply.started": "2023-07-01T00:59:47.214589Z"
        },
        "papermill": {
          "duration": 0.030189,
          "end_time": "2023-07-01T01:39:55.609778",
          "exception": false,
          "start_time": "2023-07-01T01:39:55.579589",
          "status": "completed"
        },
        "tags": [],
        "id": "844580f4"
      },
      "outputs": [],
      "source": [
        "import os\n",
        "\n",
        "def make_dir(x):\n",
        "    if os.path.exists(x)==False:\n",
        "        os.makedirs(x)\n",
        "\n",
        "base_dir = './subset'\n",
        "make_dir(base_dir)"
      ]
    },
    {
      "cell_type": "code",
      "execution_count": 13,
      "id": "a56a151f",
      "metadata": {
        "execution": {
          "iopub.execute_input": "2023-07-01T01:39:55.662087Z",
          "iopub.status.busy": "2023-07-01T01:39:55.661428Z",
          "iopub.status.idle": "2023-07-01T01:39:55.664378Z",
          "shell.execute_reply": "2023-07-01T01:39:55.663827Z",
          "shell.execute_reply.started": "2023-07-01T00:59:49.478161Z"
        },
        "papermill": {
          "duration": 0.029315,
          "end_time": "2023-07-01T01:39:55.664510",
          "exception": false,
          "start_time": "2023-07-01T01:39:55.635195",
          "status": "completed"
        },
        "tags": [],
        "id": "a56a151f"
      },
      "outputs": [],
      "source": [
        "train_dir = os.path.join(base_dir, 'train')\n",
        "make_dir(train_dir)"
      ]
    },
    {
      "cell_type": "code",
      "execution_count": 14,
      "id": "dd9f9838",
      "metadata": {
        "execution": {
          "iopub.execute_input": "2023-07-01T01:39:55.716525Z",
          "iopub.status.busy": "2023-07-01T01:39:55.715737Z",
          "iopub.status.idle": "2023-07-01T01:40:43.241363Z",
          "shell.execute_reply": "2023-07-01T01:40:43.240781Z",
          "shell.execute_reply.started": "2023-07-01T01:00:34.278326Z"
        },
        "papermill": {
          "duration": 47.554842,
          "end_time": "2023-07-01T01:40:43.241518",
          "exception": false,
          "start_time": "2023-07-01T01:39:55.686676",
          "status": "completed"
        },
        "tags": [],
        "id": "dd9f9838"
      },
      "outputs": [],
      "source": [
        "breeds = labels.breed.unique()\n",
        "for breed in breeds:\n",
        "    # Make folder for each breed\n",
        "    _ = os.path.join(train_dir, breed)\n",
        "    make_dir(_)\n",
        "\n",
        "    # Copy images to the corresponding folders\n",
        "    images = labels[labels.breed == breed]['id']\n",
        "    for image in images:\n",
        "        source = os.path.join(dataset_dir, f'{image}.jpg')\n",
        "        destination = os.path.join(train_dir, breed,f'{image}.jpg')\n",
        "        shutil.copyfile(source, destination)"
      ]
    },
    {
      "cell_type": "code",
      "execution_count": 15,
      "id": "a41b05bf",
      "metadata": {
        "execution": {
          "iopub.execute_input": "2023-07-01T01:40:43.293193Z",
          "iopub.status.busy": "2023-07-01T01:40:43.292597Z",
          "iopub.status.idle": "2023-07-01T01:40:43.296399Z",
          "shell.execute_reply": "2023-07-01T01:40:43.295882Z",
          "shell.execute_reply.started": "2023-07-01T01:01:37.330727Z"
        },
        "papermill": {
          "duration": 0.032458,
          "end_time": "2023-07-01T01:40:43.296524",
          "exception": false,
          "start_time": "2023-07-01T01:40:43.264066",
          "status": "completed"
        },
        "tags": [],
        "id": "a41b05bf",
        "outputId": "edb3383e-313d-4c4d-b637-9c50aa8b3d31",
        "colab": {
          "base_uri": "https://localhost:8080/"
        }
      },
      "outputs": [
        {
          "output_type": "execute_result",
          "data": {
            "text/plain": [
              "array(['boston_bull', 'dingo', 'pekinese', 'bluetick', 'golden_retriever',\n",
              "       'bedlington_terrier', 'borzoi', 'basenji', 'scottish_deerhound',\n",
              "       'shetland_sheepdog', 'walker_hound', 'maltese_dog',\n",
              "       'norfolk_terrier', 'african_hunting_dog',\n",
              "       'wire-haired_fox_terrier', 'redbone', 'lakeland_terrier', 'boxer',\n",
              "       'doberman', 'otterhound', 'standard_schnauzer',\n",
              "       'irish_water_spaniel', 'black-and-tan_coonhound', 'cairn',\n",
              "       'affenpinscher', 'labrador_retriever', 'ibizan_hound',\n",
              "       'english_setter', 'weimaraner', 'giant_schnauzer', 'groenendael',\n",
              "       'dhole', 'toy_poodle', 'border_terrier', 'tibetan_terrier',\n",
              "       'norwegian_elkhound', 'shih-tzu', 'irish_terrier', 'kuvasz',\n",
              "       'german_shepherd', 'greater_swiss_mountain_dog', 'basset',\n",
              "       'australian_terrier', 'schipperke', 'rhodesian_ridgeback',\n",
              "       'irish_setter', 'appenzeller', 'bloodhound', 'samoyed',\n",
              "       'miniature_schnauzer', 'brittany_spaniel', 'kelpie', 'papillon',\n",
              "       'border_collie', 'entlebucher', 'collie', 'malamute',\n",
              "       'welsh_springer_spaniel', 'chihuahua', 'saluki', 'pug', 'malinois',\n",
              "       'komondor', 'airedale', 'leonberg', 'mexican_hairless',\n",
              "       'bull_mastiff', 'bernese_mountain_dog',\n",
              "       'american_staffordshire_terrier', 'lhasa', 'cardigan',\n",
              "       'italian_greyhound', 'clumber', 'scotch_terrier', 'afghan_hound',\n",
              "       'old_english_sheepdog', 'saint_bernard', 'miniature_pinscher',\n",
              "       'eskimo_dog', 'irish_wolfhound', 'brabancon_griffon',\n",
              "       'toy_terrier', 'chow', 'flat-coated_retriever', 'norwich_terrier',\n",
              "       'soft-coated_wheaten_terrier', 'staffordshire_bullterrier',\n",
              "       'english_foxhound', 'gordon_setter', 'siberian_husky',\n",
              "       'newfoundland', 'briard', 'chesapeake_bay_retriever',\n",
              "       'dandie_dinmont', 'great_pyrenees', 'beagle', 'vizsla',\n",
              "       'west_highland_white_terrier', 'kerry_blue_terrier', 'whippet',\n",
              "       'sealyham_terrier', 'standard_poodle', 'keeshond',\n",
              "       'japanese_spaniel', 'miniature_poodle', 'pomeranian',\n",
              "       'curly-coated_retriever', 'yorkshire_terrier', 'pembroke',\n",
              "       'great_dane', 'blenheim_spaniel', 'silky_terrier',\n",
              "       'sussex_spaniel', 'german_short-haired_pointer', 'french_bulldog',\n",
              "       'bouvier_des_flandres', 'tibetan_mastiff', 'english_springer',\n",
              "       'cocker_spaniel', 'rottweiler'], dtype=object)"
            ]
          },
          "metadata": {},
          "execution_count": 15
        }
      ],
      "source": [
        "breeds"
      ]
    },
    {
      "cell_type": "code",
      "execution_count": 16,
      "id": "76a6104a",
      "metadata": {
        "execution": {
          "iopub.execute_input": "2023-07-01T01:40:43.347508Z",
          "iopub.status.busy": "2023-07-01T01:40:43.345884Z",
          "iopub.status.idle": "2023-07-01T01:40:43.348166Z",
          "shell.execute_reply": "2023-07-01T01:40:43.348665Z",
          "shell.execute_reply.started": "2023-07-01T01:01:41.784700Z"
        },
        "papermill": {
          "duration": 0.028935,
          "end_time": "2023-07-01T01:40:43.348796",
          "exception": false,
          "start_time": "2023-07-01T01:40:43.319861",
          "status": "completed"
        },
        "tags": [],
        "id": "76a6104a"
      },
      "outputs": [],
      "source": [
        "batch_size = 128"
      ]
    },
    {
      "cell_type": "code",
      "execution_count": 18,
      "id": "aa181a79",
      "metadata": {
        "execution": {
          "iopub.execute_input": "2023-07-01T01:40:43.400568Z",
          "iopub.status.busy": "2023-07-01T01:40:43.399601Z",
          "iopub.status.idle": "2023-07-01T01:40:44.237098Z",
          "shell.execute_reply": "2023-07-01T01:40:44.236586Z",
          "shell.execute_reply.started": "2023-07-01T01:02:16.128526Z"
        },
        "papermill": {
          "duration": 0.865875,
          "end_time": "2023-07-01T01:40:44.237237",
          "exception": false,
          "start_time": "2023-07-01T01:40:43.371362",
          "status": "completed"
        },
        "tags": [],
        "id": "aa181a79",
        "outputId": "464cd881-f0ef-470c-ca10-3afd2d28f1c2",
        "colab": {
          "base_uri": "https://localhost:8080/"
        }
      },
      "outputs": [
        {
          "output_type": "stream",
          "name": "stdout",
          "text": [
            "Found 8221 images belonging to 120 classes.\n",
            "Found 2001 images belonging to 120 classes.\n"
          ]
        }
      ],
      "source": [
        "datagen = ImageDataGenerator(rescale=1./255, # rescale pixel values to [0,1] to reduce memory usage\n",
        "    shear_range=0.2,\n",
        "    zoom_range=0.2,\n",
        "    horizontal_flip=True,\n",
        "    validation_split=0.2) # set validation split\n",
        "\n",
        "\n",
        "train_generator = datagen.flow_from_directory(\n",
        "    directory=train_dir,\n",
        "    target_size=(224, 224),\n",
        "    batch_size=batch_size,\n",
        "    class_mode='sparse',\n",
        "    subset='training')\n",
        "\n",
        "validation_generator = datagen.flow_from_directory(\n",
        "    directory=train_dir,\n",
        "    target_size=(224, 224),\n",
        "    batch_size=batch_size,\n",
        "    class_mode='sparse',\n",
        "    subset='validation')"
      ]
    },
    {
      "cell_type": "markdown",
      "id": "8f4efc7d",
      "metadata": {
        "papermill": {
          "duration": 0.023344,
          "end_time": "2023-07-01T01:40:44.284112",
          "exception": false,
          "start_time": "2023-07-01T01:40:44.260768",
          "status": "completed"
        },
        "tags": [],
        "id": "8f4efc7d"
      },
      "source": [
        "## Models Used"
      ]
    },
    {
      "cell_type": "code",
      "execution_count": 19,
      "id": "79efb717",
      "metadata": {
        "execution": {
          "iopub.execute_input": "2023-07-01T01:40:44.338914Z",
          "iopub.status.busy": "2023-07-01T01:40:44.338313Z",
          "iopub.status.idle": "2023-07-01T01:40:53.561023Z",
          "shell.execute_reply": "2023-07-01T01:40:53.560476Z",
          "shell.execute_reply.started": "2023-07-01T01:02:43.997781Z"
        },
        "papermill": {
          "duration": 9.253478,
          "end_time": "2023-07-01T01:40:53.561166",
          "exception": false,
          "start_time": "2023-07-01T01:40:44.307688",
          "status": "completed"
        },
        "tags": [],
        "id": "79efb717",
        "outputId": "2214a814-d7b8-4dce-cd03-329bdde5c2c1",
        "colab": {
          "base_uri": "https://localhost:8080/"
        }
      },
      "outputs": [
        {
          "output_type": "stream",
          "name": "stdout",
          "text": [
            "Downloading data from https://storage.googleapis.com/tensorflow/keras-applications/inception_resnet_v2/inception_resnet_v2_weights_tf_dim_ordering_tf_kernels_notop.h5\n",
            "219055592/219055592 [==============================] - 7s 0us/step\n"
          ]
        }
      ],
      "source": [
        "from tensorflow.keras.applications import InceptionResNetV2\n",
        "\n",
        "inception_bottleneck = InceptionResNetV2(weights='imagenet', include_top=False, input_shape=(224, 224, 3))"
      ]
    },
    {
      "cell_type": "code",
      "execution_count": 20,
      "id": "b6006f02",
      "metadata": {
        "execution": {
          "iopub.execute_input": "2023-07-01T01:40:53.646964Z",
          "iopub.status.busy": "2023-07-01T01:40:53.646114Z",
          "iopub.status.idle": "2023-07-01T01:40:54.377075Z",
          "shell.execute_reply": "2023-07-01T01:40:54.376526Z",
          "shell.execute_reply.started": "2023-07-01T01:02:24.712711Z"
        },
        "papermill": {
          "duration": 0.77561,
          "end_time": "2023-07-01T01:40:54.377219",
          "exception": false,
          "start_time": "2023-07-01T01:40:53.601609",
          "status": "completed"
        },
        "tags": [],
        "id": "b6006f02",
        "outputId": "743f5837-8619-416f-a2bf-7bf1f3812d28",
        "colab": {
          "base_uri": "https://localhost:8080/"
        }
      },
      "outputs": [
        {
          "output_type": "stream",
          "name": "stdout",
          "text": [
            "Downloading data from https://storage.googleapis.com/tensorflow/keras-applications/vgg19/vgg19_weights_tf_dim_ordering_tf_kernels_notop.h5\n",
            "80134624/80134624 [==============================] - 1s 0us/step\n"
          ]
        }
      ],
      "source": [
        "from tensorflow.keras.applications.vgg19 import VGG19\n",
        "\n",
        "vgg_model = VGG19(weights='imagenet', include_top=False, input_shape=(224, 224, 3))"
      ]
    },
    {
      "cell_type": "code",
      "execution_count": 21,
      "id": "11926929",
      "metadata": {
        "execution": {
          "iopub.execute_input": "2023-07-01T01:40:54.473208Z",
          "iopub.status.busy": "2023-07-01T01:40:54.472577Z",
          "iopub.status.idle": "2023-07-01T01:40:56.873905Z",
          "shell.execute_reply": "2023-07-01T01:40:56.874552Z",
          "shell.execute_reply.started": "2023-07-01T01:02:55.493675Z"
        },
        "papermill": {
          "duration": 2.45328,
          "end_time": "2023-07-01T01:40:56.874747",
          "exception": false,
          "start_time": "2023-07-01T01:40:54.421467",
          "status": "completed"
        },
        "tags": [],
        "id": "11926929",
        "outputId": "b90b4899-4a73-4ca8-f90d-204f8fd5f2b6",
        "colab": {
          "base_uri": "https://localhost:8080/"
        }
      },
      "outputs": [
        {
          "output_type": "stream",
          "name": "stdout",
          "text": [
            "Downloading data from https://storage.googleapis.com/tensorflow/keras-applications/inception_v3/inception_v3_weights_tf_dim_ordering_tf_kernels_notop.h5\n",
            "87910968/87910968 [==============================] - 1s 0us/step\n"
          ]
        }
      ],
      "source": [
        "from tensorflow.keras.applications import InceptionV3\n",
        "\n",
        "InceptionV3_model = InceptionV3(weights='imagenet', include_top=False, input_shape=(224, 224, 3))\n"
      ]
    },
    {
      "cell_type": "code",
      "execution_count": 22,
      "id": "d268727e",
      "metadata": {
        "execution": {
          "iopub.execute_input": "2023-07-01T01:40:56.993569Z",
          "iopub.status.busy": "2023-07-01T01:40:56.987758Z",
          "iopub.status.idle": "2023-07-01T01:40:57.777149Z",
          "shell.execute_reply": "2023-07-01T01:40:57.777726Z",
          "shell.execute_reply.started": "2023-07-01T01:03:00.355778Z"
        },
        "papermill": {
          "duration": 0.851317,
          "end_time": "2023-07-01T01:40:57.777902",
          "exception": false,
          "start_time": "2023-07-01T01:40:56.926585",
          "status": "completed"
        },
        "tags": [],
        "id": "d268727e"
      },
      "outputs": [],
      "source": [
        "InceptionV3_model.trainable = False\n",
        "\n",
        "model = models.Sequential()\n",
        "model.add(InceptionV3_model)\n",
        "model.add(GlobalAveragePooling2D())\n",
        "model.add(layers.Dropout(0.2))\n",
        "model.add(layers.Dense(n_class, activation='softmax'))\n",
        "\n",
        "\n",
        "model.compile(optimizer='adam', loss='sparse_categorical_crossentropy', metrics=['accuracy'])\n",
        "#model.summary()"
      ]
    },
    {
      "cell_type": "markdown",
      "id": "27230728",
      "metadata": {
        "papermill": {
          "duration": 0.047378,
          "end_time": "2023-07-01T01:40:57.873867",
          "exception": false,
          "start_time": "2023-07-01T01:40:57.826489",
          "status": "completed"
        },
        "tags": [],
        "id": "27230728"
      },
      "source": [
        "## Training the model"
      ]
    },
    {
      "cell_type": "code",
      "execution_count": 25,
      "id": "a51aee2e",
      "metadata": {
        "execution": {
          "iopub.execute_input": "2023-07-01T01:40:57.981312Z",
          "iopub.status.busy": "2023-07-01T01:40:57.980443Z",
          "iopub.status.idle": "2023-07-01T01:52:56.428087Z",
          "shell.execute_reply": "2023-07-01T01:52:56.427421Z",
          "shell.execute_reply.started": "2023-07-01T01:07:42.410751Z"
        },
        "papermill": {
          "duration": 718.503255,
          "end_time": "2023-07-01T01:52:56.428232",
          "exception": false,
          "start_time": "2023-07-01T01:40:57.924977",
          "status": "completed"
        },
        "tags": [],
        "id": "a51aee2e",
        "outputId": "1f7a14bc-0b8e-4f75-fac8-b9ceda7c8bda",
        "colab": {
          "base_uri": "https://localhost:8080/"
        }
      },
      "outputs": [
        {
          "output_type": "stream",
          "name": "stdout",
          "text": [
            "Epoch 1/5\n",
            "64/64 [==============================] - 1299s 20s/step - loss: 1.1352 - accuracy: 0.6946 - val_loss: 0.8465 - val_accuracy: 0.7557\n",
            "Epoch 2/5\n",
            "64/64 [==============================] - 1270s 20s/step - loss: 0.7343 - accuracy: 0.7793 - val_loss: 0.8809 - val_accuracy: 0.7432\n",
            "Epoch 3/5\n",
            "64/64 [==============================] - 1251s 20s/step - loss: 0.6636 - accuracy: 0.7957 - val_loss: 0.8318 - val_accuracy: 0.7557\n",
            "Epoch 4/5\n",
            "64/64 [==============================] - 1251s 20s/step - loss: 0.5945 - accuracy: 0.8137 - val_loss: 0.8189 - val_accuracy: 0.7557\n",
            "Epoch 5/5\n",
            "64/64 [==============================] - 1260s 20s/step - loss: 0.5088 - accuracy: 0.8392 - val_loss: 0.8126 - val_accuracy: 0.7750\n"
          ]
        }
      ],
      "source": [
        "#early_stop = EarlyStopping(monitor='val_loss', mode='min', verbose=1, patience=10)\n",
        "\n",
        "\n",
        "history = model.fit(train_generator,\n",
        "          #batch_size=batch_size,\n",
        "          steps_per_epoch = train_generator.samples // batch_size,\n",
        "          validation_data = validation_generator,\n",
        "          validation_steps = validation_generator.samples // batch_size,\n",
        "          epochs=5,\n",
        "          verbose=1)\n",
        "          #callbacks=[early_stop])"
      ]
    },
    {
      "cell_type": "markdown",
      "id": "62879fab",
      "metadata": {
        "papermill": {
          "duration": 0.155749,
          "end_time": "2023-07-01T01:52:56.742300",
          "exception": false,
          "start_time": "2023-07-01T01:52:56.586551",
          "status": "completed"
        },
        "tags": [],
        "id": "62879fab"
      },
      "source": [
        "## Testing the model"
      ]
    },
    {
      "cell_type": "code",
      "execution_count": 27,
      "id": "9482abe2",
      "metadata": {
        "execution": {
          "iopub.execute_input": "2023-07-01T01:52:57.095454Z",
          "iopub.status.busy": "2023-07-01T01:52:57.063656Z",
          "iopub.status.idle": "2023-07-01T01:54:37.679362Z",
          "shell.execute_reply": "2023-07-01T01:54:37.678407Z"
        },
        "papermill": {
          "duration": 100.778315,
          "end_time": "2023-07-01T01:54:37.679522",
          "exception": false,
          "start_time": "2023-07-01T01:52:56.901207",
          "status": "completed"
        },
        "tags": [],
        "id": "9482abe2",
        "colab": {
          "base_uri": "https://localhost:8080/"
        },
        "outputId": "14a1997e-699a-4ffc-e052-deff89de9103"
      },
      "outputs": [
        {
          "output_type": "stream",
          "name": "stdout",
          "text": [
            "mkdir: cannot create directory ‘test_data’: File exists\n"
          ]
        }
      ],
      "source": [
        "!mkdir test_data\n",
        "!cp -r \"/content/drive/MyDrive/test\" test_data"
      ]
    },
    {
      "cell_type": "code",
      "execution_count": 28,
      "id": "4da0bd1f",
      "metadata": {
        "execution": {
          "iopub.execute_input": "2023-07-01T01:54:38.004785Z",
          "iopub.status.busy": "2023-07-01T01:54:38.003936Z",
          "iopub.status.idle": "2023-07-01T01:54:38.431853Z",
          "shell.execute_reply": "2023-07-01T01:54:38.432741Z",
          "shell.execute_reply.started": "2023-06-23T01:06:56.032164Z"
        },
        "papermill": {
          "duration": 0.59653,
          "end_time": "2023-07-01T01:54:38.432910",
          "exception": false,
          "start_time": "2023-07-01T01:54:37.836380",
          "status": "completed"
        },
        "tags": [],
        "id": "4da0bd1f",
        "outputId": "78f0ba89-2a3c-45ba-8337-1bcb7fb3bd6e",
        "colab": {
          "base_uri": "https://localhost:8080/"
        }
      },
      "outputs": [
        {
          "output_type": "stream",
          "name": "stdout",
          "text": [
            "Found 2025 images belonging to 1 classes.\n"
          ]
        }
      ],
      "source": [
        "datagen_test = ImageDataGenerator(rescale=1./255) # rescale pixel values to [0,1] to reduce memory usage\n",
        "\n",
        "test_generator = datagen_test.flow_from_directory(\n",
        "    directory=\"test_data\",\n",
        "    target_size=(224, 224),\n",
        "    batch_size=batch_size,\n",
        "    class_mode=None,\n",
        "    shuffle=False)"
      ]
    },
    {
      "cell_type": "code",
      "execution_count": 30,
      "id": "a72cc33a",
      "metadata": {
        "execution": {
          "iopub.execute_input": "2023-07-01T01:54:38.811786Z",
          "iopub.status.busy": "2023-07-01T01:54:38.810877Z",
          "iopub.status.idle": "2023-07-01T01:54:38.831498Z",
          "shell.execute_reply": "2023-07-01T01:54:38.832758Z",
          "shell.execute_reply.started": "2023-06-23T01:06:56.472749Z"
        },
        "papermill": {
          "duration": 0.214271,
          "end_time": "2023-07-01T01:54:38.833008",
          "exception": false,
          "start_time": "2023-07-01T01:54:38.618737",
          "status": "completed"
        },
        "tags": [],
        "id": "a72cc33a"
      },
      "outputs": [],
      "source": [
        "images_names = os.listdir('/content/drive/MyDrive/test')\n",
        "images_ids = [id.split('.')[0] for id in images_names]"
      ]
    },
    {
      "cell_type": "code",
      "execution_count": 31,
      "id": "e999337d",
      "metadata": {
        "execution": {
          "iopub.execute_input": "2023-07-01T01:54:39.153543Z",
          "iopub.status.busy": "2023-07-01T01:54:39.152569Z",
          "iopub.status.idle": "2023-07-01T01:55:24.446316Z",
          "shell.execute_reply": "2023-07-01T01:55:24.445728Z",
          "shell.execute_reply.started": "2023-06-23T02:11:04.060118Z"
        },
        "papermill": {
          "duration": 45.45376,
          "end_time": "2023-07-01T01:55:24.446474",
          "exception": false,
          "start_time": "2023-07-01T01:54:38.992714",
          "status": "completed"
        },
        "tags": [],
        "id": "e999337d",
        "colab": {
          "base_uri": "https://localhost:8080/"
        },
        "outputId": "fd9f2f35-b215-4b4a-c303-5782f3f47d20"
      },
      "outputs": [
        {
          "output_type": "stream",
          "name": "stdout",
          "text": [
            "16/16 [==============================] - 249s 15s/step\n"
          ]
        }
      ],
      "source": [
        "probabilities = model.predict(test_generator)"
      ]
    },
    {
      "cell_type": "code",
      "execution_count": 32,
      "id": "17cb8aa3",
      "metadata": {
        "execution": {
          "iopub.execute_input": "2023-07-01T01:55:24.788927Z",
          "iopub.status.busy": "2023-07-01T01:55:24.778615Z",
          "iopub.status.idle": "2023-07-01T01:55:26.316192Z",
          "shell.execute_reply": "2023-07-01T01:55:26.315557Z",
          "shell.execute_reply.started": "2023-06-23T02:12:02.688672Z"
        },
        "papermill": {
          "duration": 1.710173,
          "end_time": "2023-07-01T01:55:26.316356",
          "exception": false,
          "start_time": "2023-07-01T01:55:24.606183",
          "status": "completed"
        },
        "tags": [],
        "id": "17cb8aa3"
      },
      "outputs": [],
      "source": [
        "rows = []\n",
        "for index, pred in enumerate(probabilities):\n",
        "    pred_format = [format(z, '.4f') for z in pred]\n",
        "    pred_format.insert(0, images_ids[index])\n",
        "    rows.append(pred_format)"
      ]
    },
    {
      "cell_type": "code",
      "execution_count": 33,
      "id": "b8ac05bd",
      "metadata": {
        "execution": {
          "iopub.execute_input": "2023-07-01T01:55:26.646273Z",
          "iopub.status.busy": "2023-07-01T01:55:26.645290Z",
          "iopub.status.idle": "2023-07-01T01:55:26.647106Z",
          "shell.execute_reply": "2023-07-01T01:55:26.647713Z",
          "shell.execute_reply.started": "2023-06-23T01:20:48.048729Z"
        },
        "papermill": {
          "duration": 0.16776,
          "end_time": "2023-07-01T01:55:26.647871",
          "exception": false,
          "start_time": "2023-07-01T01:55:26.480111",
          "status": "completed"
        },
        "tags": [],
        "id": "b8ac05bd"
      },
      "outputs": [],
      "source": [
        "fields = breeds.tolist()\n",
        "fields.insert(0, \"id\")"
      ]
    },
    {
      "cell_type": "code",
      "execution_count": 34,
      "id": "c1cca0d8",
      "metadata": {
        "execution": {
          "iopub.execute_input": "2023-07-01T01:55:26.971688Z",
          "iopub.status.busy": "2023-07-01T01:55:26.970825Z",
          "iopub.status.idle": "2023-07-01T01:55:27.309508Z",
          "shell.execute_reply": "2023-07-01T01:55:27.308955Z",
          "shell.execute_reply.started": "2023-06-23T02:12:49.852953Z"
        },
        "papermill": {
          "duration": 0.50218,
          "end_time": "2023-07-01T01:55:27.309659",
          "exception": false,
          "start_time": "2023-07-01T01:55:26.807479",
          "status": "completed"
        },
        "tags": [],
        "id": "c1cca0d8"
      },
      "outputs": [],
      "source": [
        "import csv\n",
        "with open('output.csv', 'w') as f:\n",
        "\n",
        "    # using csv.writer method from CSV package\n",
        "    write = csv.writer(f)\n",
        "\n",
        "    write.writerow(fields)\n",
        "    write.writerows(rows)"
      ]
    },
    {
      "cell_type": "code",
      "source": [
        "output=pd.read_csv('/content/output.csv')\n",
        "output.head()"
      ],
      "metadata": {
        "colab": {
          "base_uri": "https://localhost:8080/",
          "height": 317
        },
        "id": "CuCtmFk5DmIl",
        "outputId": "e66c621b-6db7-4977-8498-475f7889be43"
      },
      "id": "CuCtmFk5DmIl",
      "execution_count": 3,
      "outputs": [
        {
          "output_type": "execute_result",
          "data": {
            "text/plain": [
              "                                 id  boston_bull   dingo  pekinese  bluetick  \\\n",
              "0  1828590efd8ccb22737c9a7223bd8b5c       0.0000  0.0001    0.0000    0.0000   \n",
              "1  1834e4243c1b87f50239cb519d7b69d1       0.0000  0.0000    0.0000    0.0000   \n",
              "2  18aeddcc3ce1bb9aad5f9d1d8f4154df       0.0000  0.0049    0.0000    0.0000   \n",
              "3  18b4b3e234b18b3df5fca201c2572f4f       0.0003  0.0055    0.0077    0.0012   \n",
              "4  1895f3fe0d30df6762d0e9602655d95c       0.0007  0.0001    0.0000    0.0000   \n",
              "\n",
              "   golden_retriever  bedlington_terrier  borzoi  basenji  scottish_deerhound  \\\n",
              "0            0.0000              0.0000     0.0   0.0000              0.0000   \n",
              "1            0.0000              0.0000     0.0   0.0000              0.0000   \n",
              "2            0.0000              0.0000     0.0   0.0000              0.0000   \n",
              "3            0.0006              0.0262     0.0   0.0024              0.0073   \n",
              "4            0.0000              0.0000     0.0   0.0000              0.0000   \n",
              "\n",
              "   ...  blenheim_spaniel  silky_terrier  sussex_spaniel  \\\n",
              "0  ...            0.0000         0.0000           0.000   \n",
              "1  ...            0.0000         0.0000           0.000   \n",
              "2  ...            0.0000         0.0000           0.000   \n",
              "3  ...            0.0002         0.0001           0.002   \n",
              "4  ...            0.0000         0.0000           0.000   \n",
              "\n",
              "   german_short-haired_pointer  french_bulldog  bouvier_des_flandres  \\\n",
              "0                       0.0000          0.0000                0.0000   \n",
              "1                       0.0000          0.0000                0.0000   \n",
              "2                       0.0000          0.0000                0.0000   \n",
              "3                       0.0003          0.0011                0.0073   \n",
              "4                       0.0000          0.0000                0.0000   \n",
              "\n",
              "   tibetan_mastiff  english_springer  cocker_spaniel  rottweiler  \n",
              "0           0.0000            0.0000          0.0000         0.0  \n",
              "1           0.0002            0.0000          0.0000         0.0  \n",
              "2           0.0000            0.0000          0.0000         0.0  \n",
              "3           0.0000            0.1208          0.0001         0.0  \n",
              "4           0.0000            0.0000          0.0000         0.0  \n",
              "\n",
              "[5 rows x 121 columns]"
            ],
            "text/html": [
              "\n",
              "\n",
              "  <div id=\"df-9b3f37d6-2a2b-48a7-a702-02b7a871bfca\">\n",
              "    <div class=\"colab-df-container\">\n",
              "      <div>\n",
              "<style scoped>\n",
              "    .dataframe tbody tr th:only-of-type {\n",
              "        vertical-align: middle;\n",
              "    }\n",
              "\n",
              "    .dataframe tbody tr th {\n",
              "        vertical-align: top;\n",
              "    }\n",
              "\n",
              "    .dataframe thead th {\n",
              "        text-align: right;\n",
              "    }\n",
              "</style>\n",
              "<table border=\"1\" class=\"dataframe\">\n",
              "  <thead>\n",
              "    <tr style=\"text-align: right;\">\n",
              "      <th></th>\n",
              "      <th>id</th>\n",
              "      <th>boston_bull</th>\n",
              "      <th>dingo</th>\n",
              "      <th>pekinese</th>\n",
              "      <th>bluetick</th>\n",
              "      <th>golden_retriever</th>\n",
              "      <th>bedlington_terrier</th>\n",
              "      <th>borzoi</th>\n",
              "      <th>basenji</th>\n",
              "      <th>scottish_deerhound</th>\n",
              "      <th>...</th>\n",
              "      <th>blenheim_spaniel</th>\n",
              "      <th>silky_terrier</th>\n",
              "      <th>sussex_spaniel</th>\n",
              "      <th>german_short-haired_pointer</th>\n",
              "      <th>french_bulldog</th>\n",
              "      <th>bouvier_des_flandres</th>\n",
              "      <th>tibetan_mastiff</th>\n",
              "      <th>english_springer</th>\n",
              "      <th>cocker_spaniel</th>\n",
              "      <th>rottweiler</th>\n",
              "    </tr>\n",
              "  </thead>\n",
              "  <tbody>\n",
              "    <tr>\n",
              "      <th>0</th>\n",
              "      <td>1828590efd8ccb22737c9a7223bd8b5c</td>\n",
              "      <td>0.0000</td>\n",
              "      <td>0.0001</td>\n",
              "      <td>0.0000</td>\n",
              "      <td>0.0000</td>\n",
              "      <td>0.0000</td>\n",
              "      <td>0.0000</td>\n",
              "      <td>0.0</td>\n",
              "      <td>0.0000</td>\n",
              "      <td>0.0000</td>\n",
              "      <td>...</td>\n",
              "      <td>0.0000</td>\n",
              "      <td>0.0000</td>\n",
              "      <td>0.000</td>\n",
              "      <td>0.0000</td>\n",
              "      <td>0.0000</td>\n",
              "      <td>0.0000</td>\n",
              "      <td>0.0000</td>\n",
              "      <td>0.0000</td>\n",
              "      <td>0.0000</td>\n",
              "      <td>0.0</td>\n",
              "    </tr>\n",
              "    <tr>\n",
              "      <th>1</th>\n",
              "      <td>1834e4243c1b87f50239cb519d7b69d1</td>\n",
              "      <td>0.0000</td>\n",
              "      <td>0.0000</td>\n",
              "      <td>0.0000</td>\n",
              "      <td>0.0000</td>\n",
              "      <td>0.0000</td>\n",
              "      <td>0.0000</td>\n",
              "      <td>0.0</td>\n",
              "      <td>0.0000</td>\n",
              "      <td>0.0000</td>\n",
              "      <td>...</td>\n",
              "      <td>0.0000</td>\n",
              "      <td>0.0000</td>\n",
              "      <td>0.000</td>\n",
              "      <td>0.0000</td>\n",
              "      <td>0.0000</td>\n",
              "      <td>0.0000</td>\n",
              "      <td>0.0002</td>\n",
              "      <td>0.0000</td>\n",
              "      <td>0.0000</td>\n",
              "      <td>0.0</td>\n",
              "    </tr>\n",
              "    <tr>\n",
              "      <th>2</th>\n",
              "      <td>18aeddcc3ce1bb9aad5f9d1d8f4154df</td>\n",
              "      <td>0.0000</td>\n",
              "      <td>0.0049</td>\n",
              "      <td>0.0000</td>\n",
              "      <td>0.0000</td>\n",
              "      <td>0.0000</td>\n",
              "      <td>0.0000</td>\n",
              "      <td>0.0</td>\n",
              "      <td>0.0000</td>\n",
              "      <td>0.0000</td>\n",
              "      <td>...</td>\n",
              "      <td>0.0000</td>\n",
              "      <td>0.0000</td>\n",
              "      <td>0.000</td>\n",
              "      <td>0.0000</td>\n",
              "      <td>0.0000</td>\n",
              "      <td>0.0000</td>\n",
              "      <td>0.0000</td>\n",
              "      <td>0.0000</td>\n",
              "      <td>0.0000</td>\n",
              "      <td>0.0</td>\n",
              "    </tr>\n",
              "    <tr>\n",
              "      <th>3</th>\n",
              "      <td>18b4b3e234b18b3df5fca201c2572f4f</td>\n",
              "      <td>0.0003</td>\n",
              "      <td>0.0055</td>\n",
              "      <td>0.0077</td>\n",
              "      <td>0.0012</td>\n",
              "      <td>0.0006</td>\n",
              "      <td>0.0262</td>\n",
              "      <td>0.0</td>\n",
              "      <td>0.0024</td>\n",
              "      <td>0.0073</td>\n",
              "      <td>...</td>\n",
              "      <td>0.0002</td>\n",
              "      <td>0.0001</td>\n",
              "      <td>0.002</td>\n",
              "      <td>0.0003</td>\n",
              "      <td>0.0011</td>\n",
              "      <td>0.0073</td>\n",
              "      <td>0.0000</td>\n",
              "      <td>0.1208</td>\n",
              "      <td>0.0001</td>\n",
              "      <td>0.0</td>\n",
              "    </tr>\n",
              "    <tr>\n",
              "      <th>4</th>\n",
              "      <td>1895f3fe0d30df6762d0e9602655d95c</td>\n",
              "      <td>0.0007</td>\n",
              "      <td>0.0001</td>\n",
              "      <td>0.0000</td>\n",
              "      <td>0.0000</td>\n",
              "      <td>0.0000</td>\n",
              "      <td>0.0000</td>\n",
              "      <td>0.0</td>\n",
              "      <td>0.0000</td>\n",
              "      <td>0.0000</td>\n",
              "      <td>...</td>\n",
              "      <td>0.0000</td>\n",
              "      <td>0.0000</td>\n",
              "      <td>0.000</td>\n",
              "      <td>0.0000</td>\n",
              "      <td>0.0000</td>\n",
              "      <td>0.0000</td>\n",
              "      <td>0.0000</td>\n",
              "      <td>0.0000</td>\n",
              "      <td>0.0000</td>\n",
              "      <td>0.0</td>\n",
              "    </tr>\n",
              "  </tbody>\n",
              "</table>\n",
              "<p>5 rows × 121 columns</p>\n",
              "</div>\n",
              "      <button class=\"colab-df-convert\" onclick=\"convertToInteractive('df-9b3f37d6-2a2b-48a7-a702-02b7a871bfca')\"\n",
              "              title=\"Convert this dataframe to an interactive table.\"\n",
              "              style=\"display:none;\">\n",
              "\n",
              "  <svg xmlns=\"http://www.w3.org/2000/svg\" height=\"24px\"viewBox=\"0 0 24 24\"\n",
              "       width=\"24px\">\n",
              "    <path d=\"M0 0h24v24H0V0z\" fill=\"none\"/>\n",
              "    <path d=\"M18.56 5.44l.94 2.06.94-2.06 2.06-.94-2.06-.94-.94-2.06-.94 2.06-2.06.94zm-11 1L8.5 8.5l.94-2.06 2.06-.94-2.06-.94L8.5 2.5l-.94 2.06-2.06.94zm10 10l.94 2.06.94-2.06 2.06-.94-2.06-.94-.94-2.06-.94 2.06-2.06.94z\"/><path d=\"M17.41 7.96l-1.37-1.37c-.4-.4-.92-.59-1.43-.59-.52 0-1.04.2-1.43.59L10.3 9.45l-7.72 7.72c-.78.78-.78 2.05 0 2.83L4 21.41c.39.39.9.59 1.41.59.51 0 1.02-.2 1.41-.59l7.78-7.78 2.81-2.81c.8-.78.8-2.07 0-2.86zM5.41 20L4 18.59l7.72-7.72 1.47 1.35L5.41 20z\"/>\n",
              "  </svg>\n",
              "      </button>\n",
              "\n",
              "\n",
              "\n",
              "    <div id=\"df-e4dbbf7c-4d56-49ac-8b2c-af8a1f70186b\">\n",
              "      <button class=\"colab-df-quickchart\" onclick=\"quickchart('df-e4dbbf7c-4d56-49ac-8b2c-af8a1f70186b')\"\n",
              "              title=\"Suggest charts.\"\n",
              "              style=\"display:none;\">\n",
              "\n",
              "<svg xmlns=\"http://www.w3.org/2000/svg\" height=\"24px\"viewBox=\"0 0 24 24\"\n",
              "     width=\"24px\">\n",
              "    <g>\n",
              "        <path d=\"M19 3H5c-1.1 0-2 .9-2 2v14c0 1.1.9 2 2 2h14c1.1 0 2-.9 2-2V5c0-1.1-.9-2-2-2zM9 17H7v-7h2v7zm4 0h-2V7h2v10zm4 0h-2v-4h2v4z\"/>\n",
              "    </g>\n",
              "</svg>\n",
              "      </button>\n",
              "    </div>\n",
              "\n",
              "<style>\n",
              "  .colab-df-quickchart {\n",
              "    background-color: #E8F0FE;\n",
              "    border: none;\n",
              "    border-radius: 50%;\n",
              "    cursor: pointer;\n",
              "    display: none;\n",
              "    fill: #1967D2;\n",
              "    height: 32px;\n",
              "    padding: 0 0 0 0;\n",
              "    width: 32px;\n",
              "  }\n",
              "\n",
              "  .colab-df-quickchart:hover {\n",
              "    background-color: #E2EBFA;\n",
              "    box-shadow: 0px 1px 2px rgba(60, 64, 67, 0.3), 0px 1px 3px 1px rgba(60, 64, 67, 0.15);\n",
              "    fill: #174EA6;\n",
              "  }\n",
              "\n",
              "  [theme=dark] .colab-df-quickchart {\n",
              "    background-color: #3B4455;\n",
              "    fill: #D2E3FC;\n",
              "  }\n",
              "\n",
              "  [theme=dark] .colab-df-quickchart:hover {\n",
              "    background-color: #434B5C;\n",
              "    box-shadow: 0px 1px 3px 1px rgba(0, 0, 0, 0.15);\n",
              "    filter: drop-shadow(0px 1px 2px rgba(0, 0, 0, 0.3));\n",
              "    fill: #FFFFFF;\n",
              "  }\n",
              "</style>\n",
              "\n",
              "    <script>\n",
              "      async function quickchart(key) {\n",
              "        const containerElement = document.querySelector('#' + key);\n",
              "        const charts = await google.colab.kernel.invokeFunction(\n",
              "            'suggestCharts', [key], {});\n",
              "      }\n",
              "    </script>\n",
              "\n",
              "      <script>\n",
              "\n",
              "function displayQuickchartButton(domScope) {\n",
              "  let quickchartButtonEl =\n",
              "    domScope.querySelector('#df-e4dbbf7c-4d56-49ac-8b2c-af8a1f70186b button.colab-df-quickchart');\n",
              "  quickchartButtonEl.style.display =\n",
              "    google.colab.kernel.accessAllowed ? 'block' : 'none';\n",
              "}\n",
              "\n",
              "        displayQuickchartButton(document);\n",
              "      </script>\n",
              "      <style>\n",
              "    .colab-df-container {\n",
              "      display:flex;\n",
              "      flex-wrap:wrap;\n",
              "      gap: 12px;\n",
              "    }\n",
              "\n",
              "    .colab-df-convert {\n",
              "      background-color: #E8F0FE;\n",
              "      border: none;\n",
              "      border-radius: 50%;\n",
              "      cursor: pointer;\n",
              "      display: none;\n",
              "      fill: #1967D2;\n",
              "      height: 32px;\n",
              "      padding: 0 0 0 0;\n",
              "      width: 32px;\n",
              "    }\n",
              "\n",
              "    .colab-df-convert:hover {\n",
              "      background-color: #E2EBFA;\n",
              "      box-shadow: 0px 1px 2px rgba(60, 64, 67, 0.3), 0px 1px 3px 1px rgba(60, 64, 67, 0.15);\n",
              "      fill: #174EA6;\n",
              "    }\n",
              "\n",
              "    [theme=dark] .colab-df-convert {\n",
              "      background-color: #3B4455;\n",
              "      fill: #D2E3FC;\n",
              "    }\n",
              "\n",
              "    [theme=dark] .colab-df-convert:hover {\n",
              "      background-color: #434B5C;\n",
              "      box-shadow: 0px 1px 3px 1px rgba(0, 0, 0, 0.15);\n",
              "      filter: drop-shadow(0px 1px 2px rgba(0, 0, 0, 0.3));\n",
              "      fill: #FFFFFF;\n",
              "    }\n",
              "  </style>\n",
              "\n",
              "      <script>\n",
              "        const buttonEl =\n",
              "          document.querySelector('#df-9b3f37d6-2a2b-48a7-a702-02b7a871bfca button.colab-df-convert');\n",
              "        buttonEl.style.display =\n",
              "          google.colab.kernel.accessAllowed ? 'block' : 'none';\n",
              "\n",
              "        async function convertToInteractive(key) {\n",
              "          const element = document.querySelector('#df-9b3f37d6-2a2b-48a7-a702-02b7a871bfca');\n",
              "          const dataTable =\n",
              "            await google.colab.kernel.invokeFunction('convertToInteractive',\n",
              "                                                     [key], {});\n",
              "          if (!dataTable) return;\n",
              "\n",
              "          const docLinkHtml = 'Like what you see? Visit the ' +\n",
              "            '<a target=\"_blank\" href=https://colab.research.google.com/notebooks/data_table.ipynb>data table notebook</a>'\n",
              "            + ' to learn more about interactive tables.';\n",
              "          element.innerHTML = '';\n",
              "          dataTable['output_type'] = 'display_data';\n",
              "          await google.colab.output.renderOutput(dataTable, element);\n",
              "          const docLink = document.createElement('div');\n",
              "          docLink.innerHTML = docLinkHtml;\n",
              "          element.appendChild(docLink);\n",
              "        }\n",
              "      </script>\n",
              "    </div>\n",
              "  </div>\n"
            ]
          },
          "metadata": {},
          "execution_count": 3
        }
      ]
    }
  ],
  "metadata": {
    "kernelspec": {
      "display_name": "Python 3",
      "language": "python",
      "name": "python3"
    },
    "language_info": {
      "codemirror_mode": {
        "name": "ipython",
        "version": 3
      },
      "file_extension": ".py",
      "mimetype": "text/x-python",
      "name": "python",
      "nbconvert_exporter": "python",
      "pygments_lexer": "ipython3",
      "version": "3.7.10"
    },
    "papermill": {
      "default_parameters": {},
      "duration": 949.942013,
      "end_time": "2023-07-01T01:55:30.931660",
      "environment_variables": {},
      "exception": null,
      "input_path": "__notebook__.ipynb",
      "output_path": "__notebook__.ipynb",
      "parameters": {},
      "start_time": "2023-07-01T01:39:40.989647",
      "version": "2.3.3"
    },
    "colab": {
      "provenance": []
    }
  },
  "nbformat": 4,
  "nbformat_minor": 5
}